{
  "nbformat": 4,
  "nbformat_minor": 0,
  "metadata": {
    "colab": {
      "provenance": [],
      "authorship_tag": "ABX9TyOG6HtFyuwrKNUslvpT1aaS",
      "include_colab_link": true
    },
    "kernelspec": {
      "name": "python3",
      "display_name": "Python 3"
    },
    "language_info": {
      "name": "python"
    }
  },
  "cells": [
    {
      "cell_type": "markdown",
      "metadata": {
        "id": "view-in-github",
        "colab_type": "text"
      },
      "source": [
        "<a href=\"https://colab.research.google.com/github/ruchxr/NLP/blob/main/TextGeneration.ipynb\" target=\"_parent\"><img src=\"https://colab.research.google.com/assets/colab-badge.svg\" alt=\"Open In Colab\"/></a>"
      ]
    },
    {
      "cell_type": "code",
      "execution_count": 31,
      "metadata": {
        "colab": {
          "base_uri": "https://localhost:8080/"
        },
        "id": "GdxADB0rqj29",
        "outputId": "d48fbd8f-0395-4bf4-fef8-aa530c6d881f"
      },
      "outputs": [
        {
          "output_type": "stream",
          "name": "stdout",
          "text": [
            "File ‘robert_frost.txt’ already there; not retrieving.\n",
            "\n"
          ]
        }
      ],
      "source": [
        "!wget -nc https://raw.githubusercontent.com/lazyprogrammer/machine_learning_examples/master/hmm_class/robert_frost.txt"
      ]
    },
    {
      "cell_type": "code",
      "source": [
        "import numpy as np\n",
        "import matplotlib.pyplot as plt\n",
        "import string\n",
        "from sklearn.model_selection import train_test_split"
      ],
      "metadata": {
        "id": "XNSYXA9fxDxF"
      },
      "execution_count": 32,
      "outputs": []
    },
    {
      "cell_type": "code",
      "source": [
        "!head robert_frost.txt"
      ],
      "metadata": {
        "colab": {
          "base_uri": "https://localhost:8080/"
        },
        "id": "v1ulFT4BxPXB",
        "outputId": "47deffd2-2c26-4449-a591-510171487576"
      },
      "execution_count": 33,
      "outputs": [
        {
          "output_type": "stream",
          "name": "stdout",
          "text": [
            "Two roads diverged in a yellow wood,\n",
            "And sorry I could not travel both\n",
            "And be one traveler, long I stood\n",
            "And looked down one as far as I could\n",
            "To where it bent in the undergrowth; \n",
            "\n",
            "Then took the other, as just as fair,\n",
            "And having perhaps the better claim\n",
            "Because it was grassy and wanted wear,\n",
            "Though as for that the passing there\n"
          ]
        }
      ]
    },
    {
      "cell_type": "code",
      "source": [
        "initial = {}\n",
        "first_order = {}\n",
        "second_order = {}"
      ],
      "metadata": {
        "id": "7leFF0OjxRtS"
      },
      "execution_count": 34,
      "outputs": []
    },
    {
      "cell_type": "code",
      "source": [
        "def remove_punctuations(s):\n",
        "  return s.translate(str.maketrans('','',string.punctuation))"
      ],
      "metadata": {
        "id": "k7i4piEoyJaq"
      },
      "execution_count": 35,
      "outputs": []
    },
    {
      "cell_type": "code",
      "source": [
        "def add2dict(d, k, v):\n",
        "  if k not in d:\n",
        "    d[k] = []\n",
        "\n",
        "  d[k].append(v)"
      ],
      "metadata": {
        "id": "zldtk3QdyTSx"
      },
      "execution_count": 36,
      "outputs": []
    },
    {
      "cell_type": "code",
      "source": [
        "for line in open('robert_frost.txt'):\n",
        "  tokens = remove_punctuations(line.rstrip().lower()).split()\n",
        "\n",
        "  T = len(tokens)\n",
        "  for i in range(T):\n",
        "    t = tokens[i]\n",
        "    if i == 0:\n",
        "      initial[t] = initial.get(t, 0.) + 1\n",
        "    else:\n",
        "      t_1 = tokens[i-1]\n",
        "      if i == T-1:\n",
        "        add2dict(second_order, (t_1, t), 'END')\n",
        "      if i == 1:\n",
        "        add2dict(first_order, t_1, t)\n",
        "      else:\n",
        "        t_2 = tokens[i-2]\n",
        "        add2dict(second_order, (t_2, t_1), t)"
      ],
      "metadata": {
        "id": "Nzdorb0Xyuqq"
      },
      "execution_count": 37,
      "outputs": []
    },
    {
      "cell_type": "code",
      "source": [
        "initial_total = sum(initial.values())\n",
        "for t, c in initial.items():\n",
        "  initial[t] = c / initial_total"
      ],
      "metadata": {
        "id": "hOPFVIrozqpz"
      },
      "execution_count": 38,
      "outputs": []
    },
    {
      "cell_type": "code",
      "source": [
        "def list2pdict(ts):\n",
        "  d = {}\n",
        "  n = len(ts)\n",
        "  for t in ts:\n",
        "    d[t] = d.get(t, 0.) + 1\n",
        "  for t, c in d.items():\n",
        "    d[t] = c / n\n",
        "  return d"
      ],
      "metadata": {
        "id": "sOs4X87uz9KK"
      },
      "execution_count": 39,
      "outputs": []
    },
    {
      "cell_type": "code",
      "source": [
        "for t_s, ts in first_order.items():\n",
        "  first_order[t_s] = list2pdict(ts)"
      ],
      "metadata": {
        "id": "RTcfcvjS0Hqi"
      },
      "execution_count": 40,
      "outputs": []
    },
    {
      "cell_type": "code",
      "source": [
        "for k, ts in second_order.items():\n",
        "  second_order[k] = list2pdict(ts)"
      ],
      "metadata": {
        "id": "ogYgr-Hs0NWF"
      },
      "execution_count": 41,
      "outputs": []
    },
    {
      "cell_type": "code",
      "source": [
        "def sample_word(d):\n",
        "  p0 = np.random.random()\n",
        "  cumulative = 0\n",
        "  for t, p in d.items():\n",
        "    cumulative += p\n",
        "    if p0 < cumulative:\n",
        "      return t\n",
        "  assert(False)"
      ],
      "metadata": {
        "id": "qSiAE_U-0QH-"
      },
      "execution_count": 42,
      "outputs": []
    },
    {
      "cell_type": "code",
      "source": [
        "def generate():\n",
        "  for i in range(4):\n",
        "    sentence = []\n",
        "\n",
        "    w0 = sample_word(initial)\n",
        "    sentence.append(w0)\n",
        "\n",
        "    w1 = sample_word(first_order[w0])\n",
        "    sentence.append(w1)\n",
        "\n",
        "    while True:\n",
        "      w2 = sample_word(second_order[(w0, w1)])\n",
        "      if w2 == 'END':\n",
        "        break\n",
        "      sentence.append(w2)\n",
        "      w0 = w1\n",
        "      w1 = w2\n",
        "    print(' '.join(sentence))"
      ],
      "metadata": {
        "id": "lLMnshQg0U7C"
      },
      "execution_count": 43,
      "outputs": []
    },
    {
      "cell_type": "code",
      "source": [
        "generate()"
      ],
      "metadata": {
        "colab": {
          "base_uri": "https://localhost:8080/"
        },
        "id": "umejutze0hOe",
        "outputId": "8fa79b3d-6442-4bc9-dd54-2e5adbdaf4f5"
      },
      "execution_count": 44,
      "outputs": [
        {
          "output_type": "stream",
          "name": "stdout",
          "text": [
            "we were married\n",
            "i cant talk to her and lord if i havent had your name\n",
            "what well may prove the years high girdle mark\n",
            "isnt it hell he said the dead are keeping back\n"
          ]
        }
      ]
    }
  ]
}