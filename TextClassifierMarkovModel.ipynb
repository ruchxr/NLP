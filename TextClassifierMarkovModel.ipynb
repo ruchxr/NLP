{
  "nbformat": 4,
  "nbformat_minor": 0,
  "metadata": {
    "colab": {
      "provenance": [],
      "authorship_tag": "ABX9TyOiXEEaYdPeWpVs06wvvg/8",
      "include_colab_link": true
    },
    "kernelspec": {
      "name": "python3",
      "display_name": "Python 3"
    },
    "language_info": {
      "name": "python"
    }
  },
  "cells": [
    {
      "cell_type": "markdown",
      "metadata": {
        "id": "view-in-github",
        "colab_type": "text"
      },
      "source": [
        "<a href=\"https://colab.research.google.com/github/ruchxr/NLP/blob/main/TextClassifierMarkovModel.ipynb\" target=\"_parent\"><img src=\"https://colab.research.google.com/assets/colab-badge.svg\" alt=\"Open In Colab\"/></a>"
      ]
    },
    {
      "cell_type": "code",
      "execution_count": 60,
      "metadata": {
        "colab": {
          "base_uri": "https://localhost:8080/"
        },
        "id": "XEjVYcZwXYg7",
        "outputId": "6238af40-e5ca-48bf-d10c-15a0092ded38"
      },
      "outputs": [
        {
          "output_type": "stream",
          "name": "stdout",
          "text": [
            "File ‘robert_frost.txt’ already there; not retrieving.\n",
            "\n",
            "File ‘edgar_allan_poe.txt’ already there; not retrieving.\n",
            "\n"
          ]
        }
      ],
      "source": [
        "!wget -nc https://raw.githubusercontent.com/lazyprogrammer/machine_learning_examples/master/hmm_class/robert_frost.txt\n",
        "!wget -nc https://raw.githubusercontent.com/lazyprogrammer/machine_learning_examples/master/hmm_class/edgar_allan_poe.txt"
      ]
    },
    {
      "cell_type": "code",
      "source": [
        "import pandas as pd\n",
        "import numpy as np\n",
        "import matplotlib.pyplot as plt\n",
        "import string"
      ],
      "metadata": {
        "id": "Om5iuV_2fTkr"
      },
      "execution_count": 61,
      "outputs": []
    },
    {
      "cell_type": "code",
      "source": [
        "input_files = ['/content/edgar_allan_poe.txt', '/content/robert_frost.txt']"
      ],
      "metadata": {
        "id": "ik8vWGNefTjy"
      },
      "execution_count": 62,
      "outputs": []
    },
    {
      "cell_type": "code",
      "source": [
        "input_texts = []\n",
        "labels = []\n",
        "\n",
        "for label, text in enumerate(input_files):\n",
        "  print(f\"{text} corresponds to label {label}\")\n",
        "\n",
        "  for line in open(text):\n",
        "    line = line.rstrip().lower()\n",
        "    if line:\n",
        "      line = line.translate(str.maketrans('', '', string.punctuation))\n",
        "\n",
        "      input_texts.append(line)\n",
        "      labels.append(label)"
      ],
      "metadata": {
        "colab": {
          "base_uri": "https://localhost:8080/"
        },
        "id": "K-ScLEbYfgcF",
        "outputId": "f30027ad-6481-4595-81f1-da0748aac057"
      },
      "execution_count": 63,
      "outputs": [
        {
          "output_type": "stream",
          "name": "stdout",
          "text": [
            "/content/edgar_allan_poe.txt corresponds to label 0\n",
            "/content/robert_frost.txt corresponds to label 1\n"
          ]
        }
      ]
    },
    {
      "cell_type": "code",
      "source": [
        "from sklearn.model_selection import train_test_split\n",
        "\n",
        "X_train, X_test, y_train, y_test = train_test_split(input_texts, labels, test_size = 0.2, shuffle=True)"
      ],
      "metadata": {
        "id": "9rc9sHJ7gK3Q"
      },
      "execution_count": 64,
      "outputs": []
    },
    {
      "cell_type": "code",
      "source": [
        "X_train[:5], y_train[:5]"
      ],
      "metadata": {
        "colab": {
          "base_uri": "https://localhost:8080/"
        },
        "id": "BVA6dCnlgiJ_",
        "outputId": "e0f743f3-ed95-48f2-8af2-6158d703b68b"
      },
      "execution_count": 65,
      "outputs": [
        {
          "output_type": "execute_result",
          "data": {
            "text/plain": [
              "(['that with a quickening spell doth oer us pass',\n",
              "  'with a strange sound as of a harpstring broken',\n",
              "  'i can see we are going to be good friends',\n",
              "  'nor need you mind the serial ordeal',\n",
              "  'a troop of echoes whose sweet duty'],\n",
              " [0, 0, 1, 1, 0])"
            ]
          },
          "metadata": {},
          "execution_count": 65
        }
      ]
    },
    {
      "cell_type": "code",
      "source": [
        "len(X_train), len(X_test)"
      ],
      "metadata": {
        "colab": {
          "base_uri": "https://localhost:8080/"
        },
        "id": "Jy4tXYfOhZmV",
        "outputId": "651a0a6b-2176-424a-c4aa-dd84743225f0"
      },
      "execution_count": 66,
      "outputs": [
        {
          "output_type": "execute_result",
          "data": {
            "text/plain": [
              "(1723, 431)"
            ]
          },
          "metadata": {},
          "execution_count": 66
        }
      ]
    },
    {
      "cell_type": "code",
      "source": [
        "idx = 1\n",
        "word2idx = {'<unk>':0}\n",
        "\n",
        "for text in X_train:\n",
        "  tokens = text.split()\n",
        "  for token in tokens:\n",
        "    if token not in word2idx:\n",
        "      word2idx[token] = idx\n",
        "      idx += 1"
      ],
      "metadata": {
        "id": "UUYAh0b1g3pY"
      },
      "execution_count": 67,
      "outputs": []
    },
    {
      "cell_type": "code",
      "source": [
        "len(word2idx)"
      ],
      "metadata": {
        "colab": {
          "base_uri": "https://localhost:8080/"
        },
        "id": "gTf_m_3ShKgx",
        "outputId": "e8f61dea-7782-4f97-a9d4-4c8868712a7e"
      },
      "execution_count": 68,
      "outputs": [
        {
          "output_type": "execute_result",
          "data": {
            "text/plain": [
              "2636"
            ]
          },
          "metadata": {},
          "execution_count": 68
        }
      ]
    },
    {
      "cell_type": "code",
      "source": [
        "X_train_text = []\n",
        "X_test_text = []\n",
        "\n",
        "for text in X_train:\n",
        "  tokens = text.split()\n",
        "  line_idx = [word2idx[token] for token in tokens]\n",
        "  X_train_text.append(line_idx)\n",
        "\n",
        "for text in X_test:\n",
        "  tokens = text.split()\n",
        "  line_idx = [word2idx.get(token,0) for token in tokens]\n",
        "  X_test_text.append(line_idx)"
      ],
      "metadata": {
        "id": "iP-T0LP9hljE"
      },
      "execution_count": 69,
      "outputs": []
    },
    {
      "cell_type": "code",
      "source": [
        "X_train_text[:5]"
      ],
      "metadata": {
        "colab": {
          "base_uri": "https://localhost:8080/"
        },
        "id": "eDi3CiQNiMzW",
        "outputId": "c267860c-21af-4e2d-ca9c-5254af8c514a"
      },
      "execution_count": 70,
      "outputs": [
        {
          "output_type": "execute_result",
          "data": {
            "text/plain": [
              "[[1, 2, 3, 4, 5, 6, 7, 8, 9],\n",
              " [2, 3, 10, 11, 12, 13, 3, 14, 15],\n",
              " [16, 17, 18, 19, 20, 21, 22, 23, 24, 25],\n",
              " [26, 27, 28, 29, 30, 31, 32],\n",
              " [3, 33, 13, 34, 35, 36, 37]]"
            ]
          },
          "metadata": {},
          "execution_count": 70
        }
      ]
    },
    {
      "cell_type": "code",
      "source": [
        "V = len(word2idx)\n",
        "\n",
        "A0 = np.ones((V,V))\n",
        "pi0 = np.ones((V))\n",
        "\n",
        "A1 = np.ones((V,V))\n",
        "pi1 = np.ones((V))"
      ],
      "metadata": {
        "id": "HJ9rXInsiVG7"
      },
      "execution_count": 71,
      "outputs": []
    },
    {
      "cell_type": "code",
      "source": [
        "def compute_counts(text_as_int, A, pi):\n",
        "  for tokens in text_as_int:\n",
        "    last_idx = None\n",
        "    for idx in tokens:\n",
        "      if last_idx is None:\n",
        "        pi[idx] += 1\n",
        "      else:\n",
        "        A[last_idx][idx] += 1\n",
        "\n",
        "      last_idx = idx\n",
        "\n",
        "compute_counts([t for t, y in zip(X_train_text, y_train) if y == 0], A0, pi0)\n",
        "compute_counts([t for t, y in zip(X_train_text, y_train) if y == 1], A1, pi1)"
      ],
      "metadata": {
        "id": "IwgH8NtDiXAj"
      },
      "execution_count": 72,
      "outputs": []
    },
    {
      "cell_type": "code",
      "source": [
        "A0 /= A0.sum(axis=1, keepdims=True)\n",
        "pi0 /= pi0.sum()\n",
        "\n",
        "A1 /= A1.sum(axis=1, keepdims=True)\n",
        "pi1 /= pi1.sum()"
      ],
      "metadata": {
        "id": "UTuyNflmlVb_"
      },
      "execution_count": 73,
      "outputs": []
    },
    {
      "cell_type": "code",
      "source": [
        "logA0 = np.log(A0)\n",
        "logpi0 = np.log(pi0)\n",
        "\n",
        "logA1 = np.log(A1)\n",
        "logpi1 = np.log(pi1)"
      ],
      "metadata": {
        "id": "CvYTVhfAltGt"
      },
      "execution_count": 74,
      "outputs": []
    },
    {
      "cell_type": "code",
      "source": [
        "count0 = sum(y == 0 for y in y_train)\n",
        "count1 = sum(y == 1 for y in y_train)\n",
        "total = len(X_train)\n",
        "\n",
        "p0 = count0 / total\n",
        "p1 = count1 / total\n",
        "log0 = np.log(p0)\n",
        "log1 = np.log(p1)\n",
        "\n",
        "log0, log1, total, count0, count1"
      ],
      "metadata": {
        "colab": {
          "base_uri": "https://localhost:8080/"
        },
        "id": "bE2T5Mzzlz9_",
        "outputId": "5a74e018-0922-4316-a972-64a35e933bb9"
      },
      "execution_count": 78,
      "outputs": [
        {
          "output_type": "execute_result",
          "data": {
            "text/plain": [
              "(-1.0974521957305792, -0.4060456596484179, 1723, 575, 1148)"
            ]
          },
          "metadata": {},
          "execution_count": 78
        }
      ]
    },
    {
      "cell_type": "code",
      "source": [
        "class Classifier:\n",
        "  def __init__(self, logAs, logpis, logpriors):\n",
        "    self.logAs = logAs\n",
        "    self.logpis = logpis\n",
        "    self.logpriors = logpriors\n",
        "    self.K = len(logpriors) #number of classes\n",
        "\n",
        "  def _compute_log_likelihood(self, input_, class_):\n",
        "    logA = self.logAs[class_]\n",
        "    logpi = self.logpis[class_]\n",
        "\n",
        "    last_idx = None\n",
        "    logprob = 0\n",
        "    for idx in input_:\n",
        "      if last_idx is None:\n",
        "        logprob += logpi[idx]\n",
        "      else:\n",
        "        logprob += logA[last_idx][idx]\n",
        "\n",
        "      last_idx = idx\n",
        "\n",
        "    return logprob\n",
        "\n",
        "  def predict(self, inputs):\n",
        "    predictions = np.zeros(len(inputs))\n",
        "\n",
        "    for i, input_ in enumerate(inputs):\n",
        "      posteriors = [self._compute_log_likelihood(input_, c) + self.logpriors[c] for c in range(self.K)]\n",
        "      pred = np.argmax(posteriors)\n",
        "      predictions[i] = pred\n",
        "\n",
        "    return predictions\n",
        "\n"
      ],
      "metadata": {
        "id": "dMUECtzEmRKz"
      },
      "execution_count": 77,
      "outputs": []
    },
    {
      "cell_type": "code",
      "source": [
        "clf = Classifier([logA0, logA1], [logpi0, logpi1], [log0, log1])"
      ],
      "metadata": {
        "id": "yAgVAvosoXy0"
      },
      "execution_count": 79,
      "outputs": []
    },
    {
      "cell_type": "code",
      "source": [
        "Ptrain = clf.predict(X_train_text)\n",
        "print(f\"Train accuracy: {np.mean(Ptrain == y_train)}\")"
      ],
      "metadata": {
        "colab": {
          "base_uri": "https://localhost:8080/"
        },
        "id": "ZlZae5T0onUJ",
        "outputId": "f9f45626-f3c4-4720-a7ae-2de41c278520"
      },
      "execution_count": 80,
      "outputs": [
        {
          "output_type": "stream",
          "name": "stdout",
          "text": [
            "Train accuracy: 0.995937318630296\n"
          ]
        }
      ]
    },
    {
      "cell_type": "code",
      "source": [
        "Ptest = clf.predict(X_test_text)\n",
        "print(f\"Test accuracy: {np.mean(Ptest == y_test)}\")"
      ],
      "metadata": {
        "colab": {
          "base_uri": "https://localhost:8080/"
        },
        "id": "v9aVxFlzo0TO",
        "outputId": "d373c4e6-8c0d-4f98-b2cd-4baa0212cde0"
      },
      "execution_count": 81,
      "outputs": [
        {
          "output_type": "stream",
          "name": "stdout",
          "text": [
            "Test accuracy: 0.8259860788863109\n"
          ]
        }
      ]
    },
    {
      "cell_type": "code",
      "source": [
        "from sklearn.metrics import classification_report, confusion_matrix\n",
        "\n",
        "print(classification_report(Ptest, y_test))\n",
        "print(confusion_matrix(Ptest, y_test))"
      ],
      "metadata": {
        "colab": {
          "base_uri": "https://localhost:8080/"
        },
        "id": "tG5pzyj8o9Tc",
        "outputId": "63e82576-fa58-485e-d0e8-f5453b97d8a3"
      },
      "execution_count": 82,
      "outputs": [
        {
          "output_type": "stream",
          "name": "stdout",
          "text": [
            "              precision    recall  f1-score   support\n",
            "\n",
            "         0.0       0.55      0.89      0.68        88\n",
            "         1.0       0.97      0.81      0.88       343\n",
            "\n",
            "    accuracy                           0.83       431\n",
            "   macro avg       0.76      0.85      0.78       431\n",
            "weighted avg       0.88      0.83      0.84       431\n",
            "\n",
            "[[ 78  10]\n",
            " [ 65 278]]\n"
          ]
        }
      ]
    }
  ]
}